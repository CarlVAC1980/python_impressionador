{
 "cells": [
  {
   "cell_type": "markdown",
   "id": "a2fee89b",
   "metadata": {},
   "source": [
    "### Forma de pensar"
   ]
  },
  {
   "cell_type": "code",
   "execution_count": null,
   "id": "1be9db7d",
   "metadata": {},
   "outputs": [],
   "source": [
    "# coisas simples: atravessar a rua (mostrar os diferentes níveis de abstração que dá para fazer)\n",
    "\n",
    "\n",
    "# tomar café da manhã (mostrar os diferentes níveis de abstração que dá para fazer)\n",
    "\n",
    "\n",
    "# Shampoo (pegar um shampoo aqui de casa e ler)"
   ]
  },
  {
   "cell_type": "markdown",
   "id": "672e10e0",
   "metadata": {},
   "source": [
    "### Exemplo de Exercício do Curso"
   ]
  },
  {
   "cell_type": "markdown",
   "id": "fee80189",
   "metadata": {},
   "source": [
    "#### 23. Faça um Programa para uma loja de tintas. O programa deverá pedir o tamanho em metros quadrados da área a ser pintada. Considere que a cobertura da tinta é de 1 litro para cada 6 metros quadrados e que a tinta é vendida em latas de 18 litros, que custam R\\\\$ 80,00 ou em galões de 3,6 litros, que custam R\\\\$ 25,00."
   ]
  },
  {
   "cell_type": "code",
   "execution_count": null,
   "id": "4499bb83",
   "metadata": {},
   "outputs": [
    {
     "name": "stdout",
     "output_type": "stream",
     "text": [
      "Qual a area a ser pintada: 50\n",
      "Quantidade de latas 1\n",
      "Preço: R$80.00\n"
     ]
    }
   ],
   "source": [
    "# calcular quantas latas e quanto custa colmprar a tinta\n",
    "    # descobrir a area a ser pintada\n",
    "area = int(input('Qual a area a ser pintada: '))\n",
    "    # calcular quantos litros de tinta o cliente precisa (area / 6)\n",
    "litros = area / 6\n",
    "    # quantas latas eu vou precisar para a quantidade de litros\n",
    "latas = litros / 18\n",
    "\n",
    "if int(latas) != latas:\n",
    "    latas = int(latas) + 1\n",
    "    \n",
    "    # calcular o preço das latas de tinta (quantidade de latas * R$80,00)\n",
    "preco = latas * 80\n",
    "\n",
    "print(f'Quantidade de latas {latas}')\n",
    "print(f'Preço: R${preco:.2f}')# calcular quantas latas e quanto custa comprar a tinta\n",
    "    # descobrir a area a ser pintada\n",
    "    # calcular quantos litros de tinta o cliente precisa (area / 6)\n",
    "    # quantas latas eu vou precisar para a quantidade de litros\n",
    "        # calcular quantas latas (litros / 18)\n",
    "        # se deu um número \"quebrado\" de latas\n",
    "            # adiciona 1 lata\n",
    "        # se não\n",
    "            # dê a quantidade de latas\n",
    "    # calcular o preço das latas (quantidade de latas * R$80)\n",
    "\n",
    "def pegar_area_usuario():\n",
    "    area = int(input(\"Qual a área a ser pintada (m²): \"))\n",
    "    return area\n",
    "\n",
    "def calcular_litros_precisamos(area):\n",
    "    litros = area / 6\n",
    "    return litros\n",
    "    \n",
    "def calcular_latas(litros):\n",
    "    latas = litros / 18\n",
    "    if int(latas) != latas:\n",
    "        latas = int(latas) + 1\n",
    "    return latas\n",
    "\n",
    "def calcular_preco(latas):\n",
    "    preco = latas * 80\n",
    "    return preco\n",
    "    \n",
    "\n",
    "area = pegar_area_usuario()\n",
    "litros = calcular_litros_precisamos(area)\n",
    "latas = calcular_latas(litros)\n",
    "preco = calcular_preco(latas)\n",
    "\n",
    "\n",
    "print(f\"Quantidade de latas {latas}\")\n",
    "print(f\"Preço: R${preco:.2f}\")"
   ]
  },
  {
   "cell_type": "markdown",
   "id": "0d5fa10a",
   "metadata": {},
   "source": [
    "##### Informe ao usuário as quantidades de tinta a serem compradas e os respectivos preços em 3 situações.\n",
    "\n",
    "Dica: lembre dos operadores // e % mostrados em exercícios anteriores<br>\n",
    "Dica1: numero // 10 vai te dar como resposta a parte inteira da divisão do número por 10.<br>\n",
    "Dica2: numero % 10 vai te dar o resto da divisão do número por 10.\n",
    "\n",
    "##### 1. Comprar apenas latas de 18 litros: (apenas latas inteiras)"
   ]
  },
  {
   "cell_type": "code",
   "execution_count": 13,
   "id": "bc38cdcd",
   "metadata": {},
   "outputs": [
    {
     "name": "stdout",
     "output_type": "stream",
     "text": [
      "Qual a area a ser pintada: 250\n",
      "Quantidade de latas 3\n",
      "Preço: R$240.00\n"
     ]
    }
   ],
   "source": [
    "# calcular quantas latas e quanto custa colmprar a tinta\n",
    "    # descobrir a area a ser pintada\n",
    "area = int(input('Qual a area a ser pintada: '))\n",
    "    # calcular quantos litros de tinta o cliente precisa (area / 6)\n",
    "litros = area / 6\n",
    "    # quantas latas eu vou precisar para a quantidade de litros\n",
    "latas = litros / 18\n",
    "\n",
    "if int(latas) != latas:\n",
    "    latas = int(latas) + 1\n",
    "    \n",
    "    # calcular o preço das latas de tinta (quantidade de latas * R$80,00)\n",
    "preco = latas * 80\n",
    "\n",
    "print(f'Quantidade de latas {latas}')\n",
    "print(f'Preço: R${preco:.2f}')"
   ]
  },
  {
   "cell_type": "markdown",
   "id": "15dc7322",
   "metadata": {},
   "source": [
    "##### 2. Comprar apenas galões de 3,6 litros: (apenas galoes inteiros)"
   ]
  },
  {
   "cell_type": "code",
   "execution_count": 14,
   "id": "6e0a01af",
   "metadata": {},
   "outputs": [
    {
     "name": "stdout",
     "output_type": "stream",
     "text": [
      "Qual a area a ser pintada: 250\n",
      "Quantidade galões: 12\n",
      "Preço: R$300.00\n"
     ]
    }
   ],
   "source": [
    "# calcular o preço e a quantidade de galões para comprar\n",
    "    # saber a area do cliente\n",
    "area = int(input('Qual a area a ser pintada: '))\n",
    "    # calcular a quantidade de tinta (area / 6)\n",
    "litros_tinta = area / 6\n",
    "    # calcular a quantidade de galões (arredondado para cima) -> litros /3,6\n",
    "if litros_tinta %3.6 > 0:\n",
    "    galoes = int(litros_tinta / 3.6) + 1\n",
    "else:\n",
    "    galoes = litros_tinta / 3.6\n",
    "    # calcular o preço dos galões -> quantidade de galões * 25\n",
    "preco = galoes * 25\n",
    "\n",
    "print(f'Quantidade galões: {galoes}')\n",
    "print(f'Preço: R${preco:.2f}')"
   ]
  },
  {
   "cell_type": "markdown",
   "id": "35e0aa11",
   "metadata": {},
   "source": [
    "##### 3. Misturar latas e galões, de forma que o desperdício de tinta seja menor. Sempre arredonde os valores para cima, isto é, considere latas cheias."
   ]
  },
  {
   "cell_type": "markdown",
   "id": "95a3d342",
   "metadata": {},
   "source": [
    "O custo da lata é 80/18 = 4,44 R\\\\$/L\n",
    "\n",
    "O custo do galão é 25/3,6 = 6,94 R\\\\$/L\n",
    "\n",
    "A lata é mais econômica, então todas as latas inteiras que pudermos usar devemos comprar em latas. Se ficar faltando alguma coisa para completar devemos avaliar se é melhor comprar latas ou galões. Exemplo:\n",
    "\n",
    "Se queremos comprar 90 litros. 5 latas dão exatamente 90 litros. Então devemos comprar tudo em latas.\n",
    "\n",
    "Se queremos comprar 95 litros. 5 latas dão exatamente 90 litros. Então devemos comprar pelo menos 5 latas e avaliar o que falta, se estes últimos 5 litros valem mais apenas em latas ou galões.\n",
    "\n",
    "Para os 5 litros faltantes precisamos de 2 galões que custam 50 reais no total. Ou de uma lata que custa 80 reais no total. Portanto, neste caso vale mais a pena usar 2 galões.\n",
    "\n",
    "Se queremos comprar 107 litros. 5 latas dão exatamente 90 litros. Então devemos comprar pelo menos 5 latas e avaliar o que falta, se estes últimos 5 litros valem mais apenas em latas ou galões.\n",
    "\n",
    "Para os 17 litros faltantes precisamos de 5 galões que custam 125 reais no total. Ou de uma lata que custa 80 reais no total. Portanto, neste caso vale mais a pena usar uma lata.\n",
    "\n",
    "3 galões custam 75 reais, 4 galões custam 100 reais. Então, se for possível completar com até 3 galões escolhe-se galões. Qualquer quantidade maior que 3 galões, usa-se latas.\n",
    "\n",
    "Podemos ir ao exercício:"
   ]
  },
  {
   "cell_type": "code",
   "execution_count": 18,
   "id": "0e9847d9",
   "metadata": {},
   "outputs": [
    {
     "name": "stdout",
     "output_type": "stream",
     "text": [
      "Qual a área a ser pintada (m²): 354\n",
      "Latas: 3\n",
      "Galoes: 2\n",
      "Preço Final: R$290.00\n"
     ]
    }
   ],
   "source": [
    "# calcular o menor preço possível de latas e galoes para pintar uma parede\n",
    "    # descobrir a área a ser pintada (pegar um input do usuário)\n",
    "galoes = 0\n",
    "latas = 0\n",
    "area = int(input('Qual a área a ser pintada (m²): '))\n",
    "    # calcular quantos litros vamos precisar (area / 6)\n",
    "litros = area / 6\n",
    "    # calcular quantas latas e galoes vamos precisar\n",
    "        # calcular uantas latas inteiras vamos precisar\n",
    "latas = int(litros / 18)\n",
    "        # calcular quantos vai sobrar de litros de tinta\n",
    "litros_faltam = litros % 18\n",
    "        # se sobrar tinta:\n",
    "            # quantos galoes vamos precisar para essa sobra\n",
    "if litros_faltam > 0:\n",
    "    if litros_faltam % 3.6 > 0:\n",
    "        galoes = int(litros_faltam / 3.6) + 1\n",
    "    else:\n",
    "        galoes = litros_faltam / 3.6\n",
    "        \n",
    "    # calcular o preco\n",
    "        # qtde_latas_inteiras * 80\n",
    "preco_latas = latas * 80\n",
    "        # se qtde_galoes * 25 > 80:\n",
    "            # preço anterior + 80\n",
    "        # caso contrario\n",
    "            # preco anterior + qtde_galoes * 25\n",
    "preco_galoes = galoes * 25\n",
    "if preco_galoes > 80:\n",
    "    latas = latas + 1\n",
    "    preco_latas = latas * 80\n",
    "    faloes = 0\n",
    "    preco_galoes = 0\n",
    "    \n",
    "preco_final = preco_latas + preco_galoes\n",
    "print(f\"Latas: {latas}\")\n",
    "print(f\"Galoes: {galoes}\")\n",
    "print(f\"Preço Final: R${preco_final:.2f}\")"
   ]
  },
  {
   "cell_type": "code",
   "execution_count": null,
   "id": "c51c27c5",
   "metadata": {},
   "outputs": [],
   "source": []
  },
  {
   "cell_type": "code",
   "execution_count": null,
   "id": "b00d1531",
   "metadata": {},
   "outputs": [],
   "source": [
    "# enviar um relatório com as vendas do dia anterior para o meu chefe as 9h da manhã\n",
    "    # pegar uma base de dados com as vendas do dia anterior\n",
    "        # entrar no sistema\n",
    "        # navegar até o local da base de dados\n",
    "        # exportar a base de dados\n",
    "    # calcular as vendas do dia anterior\n",
    "        # importar a base de dados para o Python\n",
    "        # consolidar as vendas\n",
    "        # calcular o indicador de vendas\n",
    "    # enviar um email para o meu chefe\n",
    "        # entrar no meu email\n",
    "            # abrir o navegador\n",
    "            # digitar gmail.com na barra de navegação\n",
    "            # dar enter\n",
    "        # criar um novo email\n",
    "            # clicar no botão novo email\n",
    "        # preencher com as informações de vendas\n",
    "        # enviar o email"
   ]
  }
 ],
 "metadata": {
  "kernelspec": {
   "display_name": "Python 3 (ipykernel)",
   "language": "python",
   "name": "python3"
  },
  "language_info": {
   "codemirror_mode": {
    "name": "ipython",
    "version": 3
   },
   "file_extension": ".py",
   "mimetype": "text/x-python",
   "name": "python",
   "nbconvert_exporter": "python",
   "pygments_lexer": "ipython3",
   "version": "3.9.12"
  }
 },
 "nbformat": 4,
 "nbformat_minor": 5
}
