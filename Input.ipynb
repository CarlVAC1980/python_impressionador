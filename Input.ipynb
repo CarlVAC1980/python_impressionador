{
 "cells": [
  {
   "cell_type": "code",
   "execution_count": 5,
   "id": "6888cc46",
   "metadata": {},
   "outputs": [
    {
     "name": "stdout",
     "output_type": "stream",
     "text": [
      "Qual é o seu primeiro nome? Carlos\n",
      "Qual o seu sobrenome? Valença\n",
      "Carlos Valença\n"
     ]
    }
   ],
   "source": [
    "nome = input('Qual é o seu primeiro nome? ')\n",
    "sobrenome = input('Qual o seu sobrenome? ')\n",
    "\n",
    "print(nome + ' ' + sobrenome)"
   ]
  }
 ],
 "metadata": {
  "kernelspec": {
   "display_name": "Python 3 (ipykernel)",
   "language": "python",
   "name": "python3"
  },
  "language_info": {
   "codemirror_mode": {
    "name": "ipython",
    "version": 3
   },
   "file_extension": ".py",
   "mimetype": "text/x-python",
   "name": "python",
   "nbconvert_exporter": "python",
   "pygments_lexer": "ipython3",
   "version": "3.9.12"
  }
 },
 "nbformat": 4,
 "nbformat_minor": 5
}
