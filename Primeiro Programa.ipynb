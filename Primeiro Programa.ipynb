{
 "cells": [
  {
   "cell_type": "markdown",
   "id": "d68672e5",
   "metadata": {},
   "source": [
    "Meu primeiro programa"
   ]
  },
  {
   "cell_type": "code",
   "execution_count": 7,
   "id": "14bfd3ed",
   "metadata": {},
   "outputs": [],
   "source": [
    "faturamento = 200\n",
    "custo = 60"
   ]
  },
  {
   "cell_type": "code",
   "execution_count": 8,
   "id": "31fcbf15",
   "metadata": {},
   "outputs": [
    {
     "name": "stdout",
     "output_type": "stream",
     "text": [
      "140\n"
     ]
    }
   ],
   "source": [
    "lucro = faturamento - custo\n",
    "print(lucro)"
   ]
  }
 ],
 "metadata": {
  "kernelspec": {
   "display_name": "Python 3 (ipykernel)",
   "language": "python",
   "name": "python3"
  },
  "language_info": {
   "codemirror_mode": {
    "name": "ipython",
    "version": 3
   },
   "file_extension": ".py",
   "mimetype": "text/x-python",
   "name": "python",
   "nbconvert_exporter": "python",
   "pygments_lexer": "ipython3",
   "version": "3.9.12"
  }
 },
 "nbformat": 4,
 "nbformat_minor": 5
}
