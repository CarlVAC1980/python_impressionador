{
 "cells": [
  {
   "cell_type": "markdown",
   "id": "729c337e",
   "metadata": {},
   "source": [
    "# Cuidado Especial\n",
    "\n",
    "## Nunca use o print com =\n",
    "\n",
    "Um erro comum é trazer algo como:\n",
    "\n",
    "print = algum_valor\n",
    "\n",
    "* Isso nã pode ser feito em momento algum, isso porque colocar o sinal de = atribui um valor ao print que é um comando interno do python\n",
    "* Fazer isso vai mudar o que a função print faz e vai gerar um erro nos códigos seguintes. Vamos ver na pratica\n",
    "* Caso aconteça sem querer, reinicia o Kernel para corrigir."
   ]
  },
  {
   "cell_type": "code",
   "execution_count": null,
   "id": "5a5a5557",
   "metadata": {},
   "outputs": [],
   "source": []
  }
 ],
 "metadata": {
  "kernelspec": {
   "display_name": "Python 3 (ipykernel)",
   "language": "python",
   "name": "python3"
  },
  "language_info": {
   "codemirror_mode": {
    "name": "ipython",
    "version": 3
   },
   "file_extension": ".py",
   "mimetype": "text/x-python",
   "name": "python",
   "nbconvert_exporter": "python",
   "pygments_lexer": "ipython3",
   "version": "3.9.12"
  }
 },
 "nbformat": 4,
 "nbformat_minor": 5
}
